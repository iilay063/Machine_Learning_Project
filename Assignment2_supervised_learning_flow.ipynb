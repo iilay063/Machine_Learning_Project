{
 "cells": [
  {
   "cell_type": "markdown",
   "id": "ec202ada",
   "metadata": {},
   "source": [
    "# Assignment2 - Supervised Learning flow"
   ]
  },
  {
   "cell_type": "markdown",
   "id": "b06a2810",
   "metadata": {},
   "source": [
    "# Part 1(a) Student details:\n",
    "* Please write the First-Name, First letter of Last-Name and last 4 digits of the i.d. for each student. "
   ]
  },
  {
   "cell_type": "code",
   "id": "ca16486b",
   "metadata": {},
   "source": [
    "# stundent details example: John S. 9812\n",
    "#                       student details 1: Ilay W. 0725\n",
    "# (if exists)           student details 2: Aharoni C. 1047\n",
    "# (if exists)           student details 3: Adir B.\n",
    "# (if exists&premitted) student details 4: "
   ],
   "outputs": [],
   "execution_count": null
  },
  {
   "cell_type": "markdown",
   "id": "abb64166-b32e-4b86-a7ee-84106c8b3a92",
   "metadata": {},
   "source": [
    "## Part 1(b) - Chat-GPT/other AI-agent/other assistance used:\n",
    "* If you changed the prompt until you got a satisfying answer, please add all versions\n",
    "* don't delete \"pre\" tags, so new-line is supported\n",
    "* double click the following markdown cell to change\n",
    "* press shift+enter to view\n",
    "* Add information:"
   ]
  },
  {
   "cell_type": "markdown",
   "id": "ea93f0d3-7aa1-4a95-b084-395f5f7c6c0c",
   "metadata": {},
   "source": [
    "#### Add information in this Markdown cell (double click to change, shift-enter to view)\n",
    "<pre>   \n",
    "AI agent name:\n",
    "Goal:\n",
    "Propmpt1:\n",
    "    \n",
    "Propmpt2:\n",
    "    \n",
    "Propmpt3: \n",
    "\n",
    "\n",
    "AI agent name 2:\n",
    "Goal:\n",
    "Propmpt1:\n",
    "    \n",
    "Propmpt2:\n",
    "    \n",
    "Propmpt3: \n",
    "\n",
    "Other assistanse:    \n",
    "</pre>"
   ]
  },
  {
   "cell_type": "markdown",
   "id": "0e4fbaab-e5a5-40ed-be0f-9a2cb7931a4b",
   "metadata": {},
   "source": [
    "## Part 1(c) - Learning Problem and dataset explaination.\n",
    "* Please explain in one paragraph\n",
    "* don't delete \"pre\" tags, so new-line is supported\n",
    "* double click the following markdown cell to change\n",
    "* press shift+enter to view\n",
    "* Add explaining text:"
   ]
  },
  {
   "cell_type": "markdown",
   "id": "dd8565df-2778-4b89-83bd-6b227063789f",
   "metadata": {},
   "source": [
    "#### Add information in this Markdown cell (double click to change, shift-enter to view)\n",
    "<pre>\n",
    "\n",
    "\n",
    "\n",
    "\n",
    "    \n",
    "</pre>"
   ]
  },
  {
   "cell_type": "markdown",
   "id": "df67c2ee-87c8-499c-a04f-1853c332f51d",
   "metadata": {},
   "source": [
    "## Part 2 - Initial Preparations \n",
    "You could add as many code cells as needed"
   ]
  },
  {
   "cell_type": "code",
   "id": "b29b3454-b568-4614-8017-f15b3c59fc55",
   "metadata": {},
   "source": [
    "import pandas as pd\n",
    "import seaborn as sns\n",
    "import matplotlib.pyplot as plt\n",
    "import numpy as np\n",
    "\n",
    "from sklearn.impute import SimpleImputer\n",
    "from sklearn.model_selection import GridSearchCV\n",
    "from sklearn.pipeline import Pipeline\n",
    "from sklearn.compose import ColumnTransformer\n",
    "\n",
    "from sklearn.preprocessing import StandardScaler, OneHotEncoder\n",
    "\n",
    "from sklearn.linear_model import LogisticRegression\n",
    "from sklearn.ensemble import RandomForestClassifier\n",
    "from sklearn.neighbors import KNeighborsClassifier\n",
    "\n",
    "from sklearn.metrics import (\n",
    "    f1_score,\n",
    "    make_scorer,\n",
    "    recall_score,\n",
    "    precision_score,\n",
    "    confusion_matrix,\n",
    "    classification_report\n",
    ")\n"
   ],
   "outputs": [],
   "execution_count": null
  },
  {
   "cell_type": "code",
   "id": "4b47fe56-d611-4b28-be92-673db4d56400",
   "metadata": {},
   "source": [
    "train_df = pd.read_csv('titanic_train.csv')\n",
    "test_df = pd.read_csv('titanic_test.csv')\n",
    "\n",
    "print('First 5 training rows:')\n",
    "print(train_df.head())\n",
    "print('\\nFirst 5 test rows:')\n",
    "print(test_df.head())\n",
    "\n"
   ],
   "outputs": [],
   "execution_count": null
  },
  {
   "cell_type": "code",
   "id": "53e27610-b640-4db0-80c9-789b5f5fae58",
   "metadata": {},
   "source": [
    "sns.set(style='whitegrid')\n",
    "\n",
    "# Survival counts by passenger class\n",
    "plt.figure(figsize=(6, 4))\n",
    "sns.countplot(data=train_df, x='Pclass', hue='Survived')\n",
    "plt.title('Survival count by Passenger Class')\n",
    "plt.savefig('eda_pclass.png')\n",
    "\n",
    "\n",
    "# Age distribution for survived vs. not survived passengers\n",
    "plt.figure(figsize=(6, 4))\n",
    "sns.histplot(data=train_df, x='Age', hue='Survived', kde=True)\n",
    "plt.title('Age distribution by survival')\n",
    "plt.savefig('eda_age.png')\n",
    "\n",
    "\n",
    "# Correlation heatmap between the numeric features\n",
    "plt.figure(figsize=(6, 4))\n",
    "cor = train_df.drop('Survived', axis=1).corr()\n",
    "sns.heatmap(cor, annot=True, cmap='coolwarm')\n",
    "plt.title('Feature correlation')\n",
    "plt.savefig('eda_corr.png')\n"
   ],
   "outputs": [],
   "execution_count": null
  },
  {
   "cell_type": "markdown",
   "id": "fb36672a",
   "metadata": {},
   "source": [
    "## Part 3 - Experiments\n",
    "You could add as many code cells as needed"
   ]
  },
  {
   "cell_type": "code",
   "id": "937b653d",
   "metadata": {},
   "source": [
    "# First we need to check if there is any missing data\n",
    "print(train_df.isnull().sum())\n",
    "print(test_df.isnull().sum())\n",
    "# For the scaling im dividing all the data into what needs to be scaled and how\n",
    "# Categorical data with OneHotEncoding, Numerical data with StandardScaler, and what doesn't need any scaling will pass through the pipeline\n",
    "\n",
    "numerical_autoscale = ['Age' , 'Fare']\n",
    "numerical_passthrough = ['SibSp' , 'Parch']\n",
    "categorical_autoscale = ['Pclass' , 'Sex' , 'Embarked']\n",
    "\n",
    " # Because pclass, sex and embarked all are displayed as integers, LogisticReggression Might mistake them as having actuall numerical value which they don't\n",
    " # So turning them to strings and passing them trough the OneHotEncoder would make sure they are not treated that way\n",
    "\n",
    "train_df['Sex'] = train_df['Sex'].map({0 : '0' , 1 : '1'})\n",
    "train_df['Embarked'] = train_df['Embarked'].map({0: '0' , 1: '1' ,2: '2'})\n",
    "train_df['Pclass'] = train_df['Pclass'].map({1: '1' , 2: '2' ,3: '3' })\n",
    "\n",
    "\n",
    "numerical_transformer = Pipeline(steps=[\n",
    "    ('imputer', SimpleImputer(strategy='mean')),\n",
    "    ('scaler', StandardScaler())\n",
    "])\n",
    "categorical_transformer = Pipeline(steps=[\n",
    "    ('imputer', SimpleImputer(strategy='most_frequent')) ,\n",
    "    ('scaler' , OneHotEncoder(handle_unknown='ignore'))\n",
    "])\n",
    "\n",
    "preprocessor = ColumnTransformer(transformers=[\n",
    "    ('numerical', numerical_transformer, numerical_autoscale),\n",
    "    ('categorical', categorical_transformer, categorical_autoscale),\n",
    "    ('pass' , 'passthrough' , numerical_passthrough)\n",
    "])\n"
   ],
   "outputs": [],
   "execution_count": null
  },
  {
   "metadata": {},
   "cell_type": "code",
   "source": [
    "pipeline = Pipeline(steps=[\n",
    "    ('preprocessor', preprocessor),\n",
    "    ('classifier' , LogisticRegression())\n",
    "])"
   ],
   "id": "b7098585",
   "outputs": [],
   "execution_count": null
  },
  {
   "metadata": {},
   "cell_type": "code",
   "source": [
    "grid_params = [\n",
    "    {\n",
    "        'classifier' : [LogisticRegression(max_iter=1000)],\n",
    "        'classifier__C' : [0.1 , 1.0 , 10.0]\n",
    "\n",
    "    },\n",
    "    {\n",
    "        'classifier' : [KNeighborsClassifier()],\n",
    "        'classifier__n_neighbors' : [3 , 5 , 7]\n",
    "    },\n",
    "    {\n",
    "        'classifier' : [RandomForestClassifier()],\n",
    "        'classifier__n_estimators' : [50,100],\n",
    "        'classifier__max_depth' : [5,10,None]\n",
    "    }}\n",
    "]"
   ],
   "id": "097afb02",
   "outputs": [],
   "execution_count": null
  },
  {
   "metadata": {},
   "cell_type": "code",
   "source": "",
   "id": "1fa9ec73",
   "outputs": [],
   "execution_count": null
  },
  {
   "cell_type": "markdown",
   "id": "67d97f11",
   "metadata": {},
   "source": [
    "## Part 4 - Training \n",
    "Use the best combination of feature engineering, model (algorithm and hyperparameters) from the experiment part (part 3)"
   ]
  },
  {
   "cell_type": "code",
   "id": "93713ead",
   "metadata": {},
   "source": "",
   "outputs": [],
   "execution_count": null
  },
  {
   "cell_type": "code",
   "id": "c0fc460d",
   "metadata": {},
   "source": "",
   "outputs": [],
   "execution_count": null
  },
  {
   "cell_type": "code",
   "id": "064ad0a0",
   "metadata": {},
   "source": "",
   "outputs": [],
   "execution_count": null
  },
  {
   "cell_type": "markdown",
   "id": "259ab902",
   "metadata": {},
   "source": [
    "## Part 5 - Apply on test and show model performance estimation"
   ]
  },
  {
   "cell_type": "code",
   "id": "d9971aa5",
   "metadata": {},
   "source": [
    "X_test = test_df.drop('Survived', axis=1)\n",
    "y_test = test_df['Survived']\n",
    "y_pred = best_model.predict(X_test)\n",
    "\n",
    "test_confusion_matrix = confusion_matrix(y_test, y_pred)\n",
    "test_precision = precision_score(y_test, y_pred)\n",
    "test_recall = recall_score(y_test, y_pred)\n",
    "test_f1 = f1_score(y_test, y_pred)\n",
    "print('\\nTest Confusion matrix:', test_confusion_matrix)\n",
    "print('\\nTest Precision score:', test_precision)\n",
    "print('\\nTest Recall score:', test_recall)\n",
    "print('\\nTest F1 score:', test_f1)\n",
    "\n",
    "print('\\nFirst 5 predictions:')\n",
    "print(pd.DataFrame({'Actual': y_test[:5].values,\n",
    "                    'Predicted': y_pred[:5]}))"
   ],
   "outputs": [],
   "execution_count": null
  },
  {
   "cell_type": "code",
   "id": "00d8aa96",
   "metadata": {},
   "source": [],
   "outputs": [],
   "execution_count": null
  }
 ],
 "metadata": {
  "kernelspec": {
   "display_name": "Python 3 (ipykernel)",
   "language": "python",
   "name": "python3"
  },
  "language_info": {
   "codemirror_mode": {
    "name": "ipython",
    "version": 3
   },
   "file_extension": ".py",
   "mimetype": "text/x-python",
   "name": "python",
   "nbconvert_exporter": "python",
   "pygments_lexer": "ipython3",
   "version": "3.11.9"
  }
 },
 "nbformat": 4,
 "nbformat_minor": 5
}
